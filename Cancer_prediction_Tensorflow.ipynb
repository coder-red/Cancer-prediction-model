{
 "cells": [
  {
   "cell_type": "code",
   "execution_count": 1,
   "id": "3988d38f",
   "metadata": {},
   "outputs": [
    {
     "name": "stdout",
     "output_type": "stream",
     "text": [
      "WARNING:tensorflow:From C:\\Users\\hp\\anaconda3\\Lib\\site-packages\\keras\\src\\losses.py:2976: The name tf.losses.sparse_softmax_cross_entropy is deprecated. Please use tf.compat.v1.losses.sparse_softmax_cross_entropy instead.\n",
      "\n"
     ]
    }
   ],
   "source": [
    "import numpy as np\n",
    "import tensorflow as tf"
   ]
  },
  {
   "cell_type": "code",
   "execution_count": 2,
   "id": "6133b616",
   "metadata": {},
   "outputs": [],
   "source": [
    "npz = np.load('cancer_train.npz')\n",
    "\n",
    "train_inputs, train_targets = npz['inputs'].astype(np.float64), npz['targets'].astype(np.int64)\n",
    "#astype makes it float or int or bool\n",
    "\n",
    "npz = np.load('cancer_validation.npz')\n",
    "\n",
    "validation_inputs, validation_targets = npz['inputs'].astype(np.float64), npz['targets'].astype(np.int64)\n",
    "\n",
    "\n",
    "npz = np.load('cancer_test.npz')\n",
    "\n",
    "test_inputs, test_targets = npz['inputs'].astype(np.float64), npz['targets'].astype(np.int64)\n"
   ]
  },
  {
   "cell_type": "code",
   "execution_count": 3,
   "id": "6d7bc4aa",
   "metadata": {},
   "outputs": [
    {
     "name": "stdout",
     "output_type": "stream",
     "text": [
      "WARNING:tensorflow:From C:\\Users\\hp\\anaconda3\\Lib\\site-packages\\keras\\src\\backend.py:873: The name tf.get_default_graph is deprecated. Please use tf.compat.v1.get_default_graph instead.\n",
      "\n"
     ]
    }
   ],
   "source": [
    "#Model\n",
    "\n",
    "input_size = 30 \n",
    "#input_size is no of features aka predicictors\n",
    "output_size = 2\n",
    "#output_size is no of target column but for classification usually '2' for 0 and 1\n",
    "hidden_layer_size = 50\n",
    "\n",
    "\n",
    "model = tf.keras.Sequential([ \n",
    "    \n",
    "                            tf.keras.layers.Dense(hidden_layer_size, activation='relu'),\n",
    "                            tf.keras.layers.Dense(hidden_layer_size, activation='relu'),\n",
    "                            tf.keras.layers.Dense(output_size, activation ='softmax')\n",
    "    \n",
    "                            ])\n",
    "#tfkerasaequential is for stacking layers\n",
    "# .Dense takes the inputs provided to the model and calculates the dot product of the inputs and weights and Adds the bias also accepts activation fnctn\n",
    "#  The weights and biases in the neural network are initialized randomly before the training process begins\n",
    "#(cont'd) During training, the model learns the optimal values for these parameters by adjusting them iteratively to minimize the difference between the predicted outputs and the actual targets in the training data.\n",
    "#softmax transforms into probabilities which is needed for the output layer\n",
    "\n",
    "\n",
    "\n",
    "\n"
   ]
  },
  {
   "cell_type": "code",
   "execution_count": 4,
   "id": "72d3f29f",
   "metadata": {},
   "outputs": [
    {
     "name": "stdout",
     "output_type": "stream",
     "text": [
      "WARNING:tensorflow:From C:\\Users\\hp\\anaconda3\\Lib\\site-packages\\keras\\src\\optimizers\\__init__.py:309: The name tf.train.Optimizer is deprecated. Please use tf.compat.v1.train.Optimizer instead.\n",
      "\n",
      "Epoch 1/100\n",
      "WARNING:tensorflow:From C:\\Users\\hp\\anaconda3\\Lib\\site-packages\\keras\\src\\utils\\tf_utils.py:492: The name tf.ragged.RaggedTensorValue is deprecated. Please use tf.compat.v1.ragged.RaggedTensorValue instead.\n",
      "\n",
      "WARNING:tensorflow:From C:\\Users\\hp\\anaconda3\\Lib\\site-packages\\keras\\src\\engine\\base_layer_utils.py:384: The name tf.executing_eagerly_outside_functions is deprecated. Please use tf.compat.v1.executing_eagerly_outside_functions instead.\n",
      "\n",
      "5/5 - 2s - loss: 0.4828 - accuracy: 0.8154 - val_loss: 0.3364 - val_accuracy: 0.9464 - 2s/epoch - 363ms/step\n",
      "Epoch 2/100\n",
      "5/5 - 0s - loss: 0.3341 - accuracy: 0.9319 - val_loss: 0.2356 - val_accuracy: 0.9643 - 70ms/epoch - 14ms/step\n",
      "Epoch 3/100\n",
      "5/5 - 0s - loss: 0.2496 - accuracy: 0.9495 - val_loss: 0.1770 - val_accuracy: 0.9821 - 59ms/epoch - 12ms/step\n",
      "Epoch 4/100\n",
      "5/5 - 0s - loss: 0.1978 - accuracy: 0.9538 - val_loss: 0.1419 - val_accuracy: 0.9821 - 61ms/epoch - 12ms/step\n",
      "Epoch 5/100\n",
      "5/5 - 0s - loss: 0.1637 - accuracy: 0.9582 - val_loss: 0.1192 - val_accuracy: 0.9821 - 64ms/epoch - 13ms/step\n",
      "Epoch 6/100\n",
      "5/5 - 0s - loss: 0.1393 - accuracy: 0.9582 - val_loss: 0.1022 - val_accuracy: 0.9821 - 64ms/epoch - 13ms/step\n",
      "Epoch 7/100\n",
      "5/5 - 0s - loss: 0.1214 - accuracy: 0.9648 - val_loss: 0.0886 - val_accuracy: 0.9821 - 64ms/epoch - 13ms/step\n",
      "Epoch 8/100\n",
      "5/5 - 0s - loss: 0.1078 - accuracy: 0.9692 - val_loss: 0.0778 - val_accuracy: 0.9821 - 118ms/epoch - 24ms/step\n",
      "Epoch 9/100\n",
      "5/5 - 0s - loss: 0.0986 - accuracy: 0.9714 - val_loss: 0.0690 - val_accuracy: 0.9821 - 96ms/epoch - 19ms/step\n",
      "Epoch 10/100\n",
      "5/5 - 0s - loss: 0.0903 - accuracy: 0.9736 - val_loss: 0.0622 - val_accuracy: 0.9821 - 78ms/epoch - 16ms/step\n",
      "Epoch 11/100\n",
      "5/5 - 0s - loss: 0.0837 - accuracy: 0.9736 - val_loss: 0.0563 - val_accuracy: 0.9821 - 68ms/epoch - 14ms/step\n",
      "Epoch 12/100\n",
      "5/5 - 0s - loss: 0.0779 - accuracy: 0.9758 - val_loss: 0.0519 - val_accuracy: 0.9821 - 68ms/epoch - 14ms/step\n",
      "Epoch 13/100\n",
      "5/5 - 0s - loss: 0.0730 - accuracy: 0.9780 - val_loss: 0.0481 - val_accuracy: 0.9821 - 69ms/epoch - 14ms/step\n",
      "Epoch 14/100\n",
      "5/5 - 0s - loss: 0.0689 - accuracy: 0.9802 - val_loss: 0.0453 - val_accuracy: 0.9821 - 66ms/epoch - 13ms/step\n",
      "Epoch 15/100\n",
      "5/5 - 0s - loss: 0.0649 - accuracy: 0.9802 - val_loss: 0.0423 - val_accuracy: 0.9821 - 67ms/epoch - 13ms/step\n",
      "Epoch 16/100\n",
      "5/5 - 0s - loss: 0.0612 - accuracy: 0.9802 - val_loss: 0.0405 - val_accuracy: 0.9821 - 68ms/epoch - 14ms/step\n",
      "Epoch 17/100\n",
      "5/5 - 0s - loss: 0.0577 - accuracy: 0.9824 - val_loss: 0.0381 - val_accuracy: 0.9821 - 68ms/epoch - 14ms/step\n",
      "Epoch 18/100\n",
      "5/5 - 0s - loss: 0.0549 - accuracy: 0.9824 - val_loss: 0.0355 - val_accuracy: 0.9821 - 69ms/epoch - 14ms/step\n",
      "Epoch 19/100\n",
      "5/5 - 0s - loss: 0.0521 - accuracy: 0.9846 - val_loss: 0.0336 - val_accuracy: 0.9821 - 68ms/epoch - 14ms/step\n",
      "Epoch 20/100\n",
      "5/5 - 0s - loss: 0.0496 - accuracy: 0.9846 - val_loss: 0.0322 - val_accuracy: 0.9821 - 81ms/epoch - 16ms/step\n",
      "Epoch 21/100\n",
      "5/5 - 0s - loss: 0.0470 - accuracy: 0.9846 - val_loss: 0.0317 - val_accuracy: 0.9821 - 109ms/epoch - 22ms/step\n",
      "Epoch 22/100\n",
      "5/5 - 0s - loss: 0.0447 - accuracy: 0.9912 - val_loss: 0.0306 - val_accuracy: 0.9821 - 87ms/epoch - 17ms/step\n",
      "Epoch 23/100\n",
      "5/5 - 0s - loss: 0.0429 - accuracy: 0.9912 - val_loss: 0.0293 - val_accuracy: 0.9821 - 99ms/epoch - 20ms/step\n",
      "Epoch 24/100\n",
      "5/5 - 0s - loss: 0.0408 - accuracy: 0.9912 - val_loss: 0.0280 - val_accuracy: 0.9821 - 93ms/epoch - 19ms/step\n",
      "Epoch 25/100\n",
      "5/5 - 0s - loss: 0.0393 - accuracy: 0.9912 - val_loss: 0.0277 - val_accuracy: 0.9821 - 96ms/epoch - 19ms/step\n",
      "Epoch 26/100\n",
      "5/5 - 0s - loss: 0.0378 - accuracy: 0.9912 - val_loss: 0.0266 - val_accuracy: 0.9821 - 92ms/epoch - 18ms/step\n",
      "Epoch 27/100\n",
      "5/5 - 0s - loss: 0.0363 - accuracy: 0.9912 - val_loss: 0.0263 - val_accuracy: 0.9821 - 92ms/epoch - 18ms/step\n",
      "Epoch 28/100\n",
      "5/5 - 0s - loss: 0.0349 - accuracy: 0.9912 - val_loss: 0.0253 - val_accuracy: 0.9821 - 86ms/epoch - 17ms/step\n",
      "Epoch 29/100\n",
      "5/5 - 0s - loss: 0.0335 - accuracy: 0.9912 - val_loss: 0.0238 - val_accuracy: 0.9821 - 92ms/epoch - 18ms/step\n",
      "Epoch 30/100\n",
      "5/5 - 0s - loss: 0.0323 - accuracy: 0.9912 - val_loss: 0.0225 - val_accuracy: 0.9821 - 97ms/epoch - 19ms/step\n",
      "Epoch 31/100\n",
      "5/5 - 0s - loss: 0.0313 - accuracy: 0.9912 - val_loss: 0.0217 - val_accuracy: 0.9821 - 89ms/epoch - 18ms/step\n",
      "Epoch 32/100\n",
      "5/5 - 0s - loss: 0.0299 - accuracy: 0.9912 - val_loss: 0.0194 - val_accuracy: 0.9821 - 93ms/epoch - 19ms/step\n",
      "Epoch 33/100\n",
      "5/5 - 0s - loss: 0.0291 - accuracy: 0.9912 - val_loss: 0.0175 - val_accuracy: 1.0000 - 88ms/epoch - 18ms/step\n",
      "Epoch 34/100\n",
      "5/5 - 0s - loss: 0.0281 - accuracy: 0.9912 - val_loss: 0.0169 - val_accuracy: 1.0000 - 92ms/epoch - 18ms/step\n",
      "Epoch 35/100\n",
      "5/5 - 0s - loss: 0.0273 - accuracy: 0.9912 - val_loss: 0.0159 - val_accuracy: 1.0000 - 93ms/epoch - 19ms/step\n",
      "Epoch 36/100\n",
      "5/5 - 0s - loss: 0.0262 - accuracy: 0.9912 - val_loss: 0.0159 - val_accuracy: 1.0000 - 73ms/epoch - 15ms/step\n",
      "Epoch 37/100\n",
      "5/5 - 0s - loss: 0.0253 - accuracy: 0.9912 - val_loss: 0.0162 - val_accuracy: 1.0000 - 71ms/epoch - 14ms/step\n"
     ]
    }
   ],
   "source": [
    "# this example does not take advantage of iterable objects that contain the data instead we use simple arrays and batching wil be indicated when fitting the model\n",
    "\n",
    "model.compile(optimizer='adam', loss='sparse_categorical_crossentropy', metrics=['accuracy'])\n",
    "#Optimizer: Algorithm used to update model parameters during training (e.g., Adam, SGD).\n",
    "\n",
    "#Loss Function: Measures the difference between predicted and true values (e.g., MSE, MAE for regression; Cross-Entropy for classification).\n",
    "\n",
    "#Metrics: Used to evaluate model performance during training and testing (e.g., accuracy, MAE, RMSE).\n",
    "\n",
    "batch_size = 100\n",
    "\n",
    "max_epochs = 100\n",
    "#Number of epochs (iterations over the entire dataset) \n",
    "\n",
    "# Adjusting learning rate and batch size to improve accuracy\n",
    "optimizer = tf.keras.optimizers.Adam(learning_rate=0.001)  \n",
    "\n",
    "\n",
    "early_stopping = tf.keras.callbacks.EarlyStopping(monitor='val_loss',patience=2) \n",
    "#earlystopping stops the no of epochs when validation loss is increasing\n",
    "#patience allows 2 epochs with increasing validation\n",
    "\n",
    "model.fit(train_inputs,\n",
    "          train_targets,\n",
    "          batch_size = batch_size,\n",
    "          epochs = max_epochs,\n",
    "          callbacks = [early_stopping],\n",
    "          validation_data = (validation_inputs, validation_targets),\n",
    "          verbose=2\n",
    "         )\n",
    "model.add(tf.keras.layers.Dropout(0.2))\n",
    "\n",
    "#training loss and validation loss should both be decreasing an increase in validation loss could represent overfitting\n"
   ]
  },
  {
   "cell_type": "code",
   "execution_count": 5,
   "id": "3c88c72b",
   "metadata": {},
   "outputs": [
    {
     "name": "stdout",
     "output_type": "stream",
     "text": [
      "2/2 [==============================] - 0s 7ms/step - loss: 0.1488 - accuracy: 0.9828\n"
     ]
    }
   ],
   "source": [
    "# Evaluate the model on the test data\n",
    "test_loss, test_accuracy = model.evaluate(test_inputs, test_targets)\n"
   ]
  },
  {
   "cell_type": "code",
   "execution_count": 6,
   "id": "a16cfbc8",
   "metadata": {},
   "outputs": [
    {
     "name": "stdout",
     "output_type": "stream",
     "text": [
      "Test loss:  0.148821. Test accuracy:  0.982759%\n"
     ]
    }
   ],
   "source": [
    "print ('Test loss: {0: 2f}. Test accuracy: {1: 2f}%'.format(test_loss, test_accuracy))\n",
    "\n",
    "#accuracy should be lower than valid loss"
   ]
  },
  {
   "cell_type": "code",
   "execution_count": 7,
   "id": "9f58a4b3",
   "metadata": {},
   "outputs": [
    {
     "name": "stdout",
     "output_type": "stream",
     "text": [
      "INFO:tensorflow:Assets written to: path_to_save_model\\assets\n"
     ]
    },
    {
     "name": "stderr",
     "output_type": "stream",
     "text": [
      "INFO:tensorflow:Assets written to: path_to_save_model\\assets\n"
     ]
    }
   ],
   "source": [
    "tf.saved_model.save(model, 'path_to_save_model')\n",
    "\n",
    "loaded_model = tf.saved_model.load('path_to_save_model')\n"
   ]
  },
  {
   "cell_type": "code",
   "execution_count": null,
   "id": "9c89bb22",
   "metadata": {},
   "outputs": [],
   "source": []
  }
 ],
 "metadata": {
  "kernelspec": {
   "display_name": "Python [conda env:root] *",
   "language": "python",
   "name": "conda-root-py"
  },
  "language_info": {
   "codemirror_mode": {
    "name": "ipython",
    "version": 3
   },
   "file_extension": ".py",
   "mimetype": "text/x-python",
   "name": "python",
   "nbconvert_exporter": "python",
   "pygments_lexer": "ipython3",
   "version": "3.11.5"
  }
 },
 "nbformat": 4,
 "nbformat_minor": 5
}
